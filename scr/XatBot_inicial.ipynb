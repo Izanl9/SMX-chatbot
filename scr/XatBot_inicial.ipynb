{
  "nbformat": 4,
  "nbformat_minor": 0,
  "metadata": {
    "colab": {
      "provenance": [],
      "include_colab_link": true
    },
    "kernelspec": {
      "name": "python3",
      "display_name": "Python 3"
    },
    "language_info": {
      "name": "python"
    }
  },
  "cells": [
    {
      "cell_type": "markdown",
      "metadata": {
        "id": "view-in-github",
        "colab_type": "text"
      },
      "source": [
        "<a href=\"https://colab.research.google.com/github/Izanl9/SMX-chatbot/blob/main/scr/XatBot_inicial.ipynb\" target=\"_parent\"><img src=\"https://colab.research.google.com/assets/colab-badge.svg\" alt=\"Open In Colab\"/></a>"
      ]
    },
    {
      "cell_type": "code",
      "execution_count": null,
      "metadata": {
        "colab": {
          "base_uri": "https://localhost:8080/",
          "height": 532
        },
        "id": "JQyNXjXEIv-w",
        "outputId": "aad1bb0d-d27f-471e-aafa-1f265ccadd23"
      },
      "outputs": [
        {
          "output_type": "stream",
          "name": "stdout",
          "text": [
            "\n",
            "💬 XatBot activat! Escriu 'sortir' per acabar la conversa.\n",
            "\n",
            "👤 Usuari: Quantes preguntes t'he fet?\n",
            "🤖 XatBot: Aquesta és la primera pregunta que em fas.\n",
            "\n",
            "👤 Usuari: D'acord\n",
            "🤖 XatBot: Estic aquí per ajudar-te amb el que necessitis. 😊\n",
            "\n"
          ]
        },
        {
          "output_type": "error",
          "ename": "KeyboardInterrupt",
          "evalue": "Interrupted by user",
          "traceback": [
            "\u001b[0;31m---------------------------------------------------------------------------\u001b[0m",
            "\u001b[0;31mKeyboardInterrupt\u001b[0m                         Traceback (most recent call last)",
            "\u001b[0;32m<ipython-input-5-9cf9754a0481>\u001b[0m in \u001b[0;36m<cell line: 0>\u001b[0;34m()\u001b[0m\n\u001b[1;32m     50\u001b[0m     \u001b[0;32mtry\u001b[0m\u001b[0;34m:\u001b[0m\u001b[0;34m\u001b[0m\u001b[0;34m\u001b[0m\u001b[0m\n\u001b[1;32m     51\u001b[0m         \u001b[0;31m# Llegir la pregunta de l'usuari\u001b[0m\u001b[0;34m\u001b[0m\u001b[0;34m\u001b[0m\u001b[0m\n\u001b[0;32m---> 52\u001b[0;31m         \u001b[0mprompt\u001b[0m \u001b[0;34m=\u001b[0m \u001b[0minput\u001b[0m\u001b[0;34m(\u001b[0m\u001b[0;34m\"👤 Usuari: \"\u001b[0m\u001b[0;34m)\u001b[0m\u001b[0;34m.\u001b[0m\u001b[0mstrip\u001b[0m\u001b[0;34m(\u001b[0m\u001b[0;34m)\u001b[0m\u001b[0;34m\u001b[0m\u001b[0;34m\u001b[0m\u001b[0m\n\u001b[0m\u001b[1;32m     53\u001b[0m \u001b[0;34m\u001b[0m\u001b[0m\n\u001b[1;32m     54\u001b[0m         \u001b[0;31m# Si l'usuari escriu 'sortir', finalitzar la sessió\u001b[0m\u001b[0;34m\u001b[0m\u001b[0;34m\u001b[0m\u001b[0m\n",
            "\u001b[0;32m/usr/local/lib/python3.11/dist-packages/ipykernel/kernelbase.py\u001b[0m in \u001b[0;36mraw_input\u001b[0;34m(self, prompt)\u001b[0m\n\u001b[1;32m   1175\u001b[0m                 \u001b[0;34m\"raw_input was called, but this frontend does not support input requests.\"\u001b[0m\u001b[0;34m\u001b[0m\u001b[0;34m\u001b[0m\u001b[0m\n\u001b[1;32m   1176\u001b[0m             )\n\u001b[0;32m-> 1177\u001b[0;31m         return self._input_request(\n\u001b[0m\u001b[1;32m   1178\u001b[0m             \u001b[0mstr\u001b[0m\u001b[0;34m(\u001b[0m\u001b[0mprompt\u001b[0m\u001b[0;34m)\u001b[0m\u001b[0;34m,\u001b[0m\u001b[0;34m\u001b[0m\u001b[0;34m\u001b[0m\u001b[0m\n\u001b[1;32m   1179\u001b[0m             \u001b[0mself\u001b[0m\u001b[0;34m.\u001b[0m\u001b[0m_parent_ident\u001b[0m\u001b[0;34m[\u001b[0m\u001b[0;34m\"shell\"\u001b[0m\u001b[0;34m]\u001b[0m\u001b[0;34m,\u001b[0m\u001b[0;34m\u001b[0m\u001b[0;34m\u001b[0m\u001b[0m\n",
            "\u001b[0;32m/usr/local/lib/python3.11/dist-packages/ipykernel/kernelbase.py\u001b[0m in \u001b[0;36m_input_request\u001b[0;34m(self, prompt, ident, parent, password)\u001b[0m\n\u001b[1;32m   1217\u001b[0m             \u001b[0;32mexcept\u001b[0m \u001b[0mKeyboardInterrupt\u001b[0m\u001b[0;34m:\u001b[0m\u001b[0;34m\u001b[0m\u001b[0;34m\u001b[0m\u001b[0m\n\u001b[1;32m   1218\u001b[0m                 \u001b[0;31m# re-raise KeyboardInterrupt, to truncate traceback\u001b[0m\u001b[0;34m\u001b[0m\u001b[0;34m\u001b[0m\u001b[0m\n\u001b[0;32m-> 1219\u001b[0;31m                 \u001b[0;32mraise\u001b[0m \u001b[0mKeyboardInterrupt\u001b[0m\u001b[0;34m(\u001b[0m\u001b[0;34m\"Interrupted by user\"\u001b[0m\u001b[0;34m)\u001b[0m \u001b[0;32mfrom\u001b[0m \u001b[0;32mNone\u001b[0m\u001b[0;34m\u001b[0m\u001b[0;34m\u001b[0m\u001b[0m\n\u001b[0m\u001b[1;32m   1220\u001b[0m             \u001b[0;32mexcept\u001b[0m \u001b[0mException\u001b[0m\u001b[0;34m:\u001b[0m\u001b[0;34m\u001b[0m\u001b[0;34m\u001b[0m\u001b[0m\n\u001b[1;32m   1221\u001b[0m                 \u001b[0mself\u001b[0m\u001b[0;34m.\u001b[0m\u001b[0mlog\u001b[0m\u001b[0;34m.\u001b[0m\u001b[0mwarning\u001b[0m\u001b[0;34m(\u001b[0m\u001b[0;34m\"Invalid Message:\"\u001b[0m\u001b[0;34m,\u001b[0m \u001b[0mexc_info\u001b[0m\u001b[0;34m=\u001b[0m\u001b[0;32mTrue\u001b[0m\u001b[0;34m)\u001b[0m\u001b[0;34m\u001b[0m\u001b[0;34m\u001b[0m\u001b[0m\n",
            "\u001b[0;31mKeyboardInterrupt\u001b[0m: Interrupted by user"
          ]
        }
      ],
      "source": [
        "# La primera vegada, desmarca la línia de sota per a instal·lar la biblioteca\n",
        "# !pip install -U google-genai\n",
        "\n",
        "from google import genai\n",
        "from google.colab import userdata\n",
        "\n",
        "# ==============================\n",
        "# CONFIGURACIÓ DE L'API\n",
        "# ==============================\n",
        "\n",
        "# Configurar la clau API directament al client\n",
        "GOOGLE_API_KEY = userdata.get(\"GOOGLE_API_KEY\")\n",
        "\n",
        "# Gestió d'errors si no s'ha configurat la clau API\n",
        "if not GOOGLE_API_KEY:\n",
        "    print(\"⚠️ No s'ha trobat la clau API. Configura-la a Colab abans d'executar el programa.\")\n",
        "    exit()\n",
        "\n",
        "# Crear el client (NOU mètode de l'SDK 2.x)\n",
        "client = genai.Client(api_key=GOOGLE_API_KEY)\n",
        "\n",
        "# ==============================\n",
        "# INSTRUCCIONS DEL SISTEMA\n",
        "# ==============================\n",
        "\n",
        "# Definir la instrucció del sistema per guiar el comportament del xat\n",
        "# Aquesta instrucció determina la \"personalitat\" i el to de les respostes\n",
        "system_instruction = \"\"\"\n",
        "Ets un assistent d'intel·ligència artificial dissenyat per ajudar els usuaris de manera clara, precisa i educada.\n",
        "Proporciona respostes concretes i senzilles per facilitar la comprensió.\n",
        "\"\"\"\n",
        "\n",
        "# Crear una sessió de xat amb historial automàtic i instruccions personalitzades\n",
        "chat = client.chats.create(\n",
        "    model=\"gemini-2.0-flash\",\n",
        "    config=genai.types.GenerateContentConfig(\n",
        "        system_instruction=system_instruction, # Afegim instruccions del sistema\n",
        "        temperature=0.7,                      # Nivell de creativitat (0 = més concret, 1 = més creatiu)\n",
        "        max_output_tokens=200                 # Longitud màxima de la resposta\n",
        "    )\n",
        ")\n",
        "\n",
        "# ==============================\n",
        "# BUCLE DEL XAT\n",
        "# ==============================\n",
        "\n",
        "print(\"\\n💬 XatBot activat! Escriu 'sortir' per acabar la conversa.\\n\")\n",
        "\n",
        "while True:\n",
        "    try:\n",
        "        # Llegir la pregunta de l'usuari\n",
        "        prompt = input(\"👤 Usuari: \").strip()\n",
        "\n",
        "        # Si l'usuari escriu 'sortir', finalitzar la sessió\n",
        "        if prompt.lower() == \"sortir\":\n",
        "            print(\"👋 XatBot: Fins aviat!\")\n",
        "            break\n",
        "\n",
        "        # Enviar el missatge al model i obtenir la resposta\n",
        "        resposta = chat.send_message(prompt)\n",
        "\n",
        "        # Mostrar la resposta generada pel model\n",
        "        print(f\"🤖 XatBot: {resposta.text.strip()}\\n\")\n",
        "\n",
        "    except Exception as e:\n",
        "        # Gestionar qualsevol error de comunicació amb l'API\n",
        "        print(f\"⚠️ Error en la comunicació amb Gemini: {e}\")\n",
        "\n",
        "# ==============================\n",
        "# FI DE LA SESSIÓ\n",
        "# =============================="
      ]
    },
    {
      "cell_type": "code",
      "source": [],
      "metadata": {
        "id": "-82bfSfZJySg"
      },
      "execution_count": null,
      "outputs": []
    }
  ]
}